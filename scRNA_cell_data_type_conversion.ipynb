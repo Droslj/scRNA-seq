{
 "cells": [
  {
   "cell_type": "markdown",
   "id": "exotic-chile",
   "metadata": {},
   "source": [
    "#Convert strings \"True\" and \"False\" in mito annotation to bool True and False "
   ]
  },
  {
   "cell_type": "code",
   "execution_count": 1,
   "id": "vocal-madison",
   "metadata": {
    "tags": []
   },
   "outputs": [
    {
     "name": "stdout",
     "output_type": "stream",
     "text": [
      "\u001b[33mWARNING: The directory '/home/jovyan/.cache/pip' or its parent directory is not owned or is not writable by the current user. The cache has been disabled. Check the permissions and owner of that directory. If executing pip with sudo, you may want sudo's -H flag.\u001b[0m\n",
      "Note: you may need to restart the kernel to use updated packages.\n"
     ]
    }
   ],
   "source": [
    "pip install scanpy -q"
   ]
  },
  {
   "cell_type": "code",
   "execution_count": 2,
   "id": "mathematical-process",
   "metadata": {
    "tags": []
   },
   "outputs": [
    {
     "name": "stdout",
     "output_type": "stream",
     "text": [
      "\u001b[33mWARNING: The directory '/home/jovyan/.cache/pip' or its parent directory is not owned or is not writable by the current user. The cache has been disabled. Check the permissions and owner of that directory. If executing pip with sudo, you may want sudo's -H flag.\u001b[0m\n",
      "Note: you may need to restart the kernel to use updated packages.\n"
     ]
    }
   ],
   "source": [
    "pip install igraph -q"
   ]
  },
  {
   "cell_type": "code",
   "execution_count": 3,
   "id": "rubber-bradley",
   "metadata": {
    "tags": []
   },
   "outputs": [
    {
     "name": "stdout",
     "output_type": "stream",
     "text": [
      "\u001b[33mWARNING: The directory '/home/jovyan/.cache/pip' or its parent directory is not owned or is not writable by the current user. The cache has been disabled. Check the permissions and owner of that directory. If executing pip with sudo, you may want sudo's -H flag.\u001b[0m\n",
      "Note: you may need to restart the kernel to use updated packages.\n"
     ]
    }
   ],
   "source": [
    "pip install louvain -q"
   ]
  },
  {
   "cell_type": "code",
   "execution_count": 4,
   "id": "south-swimming",
   "metadata": {
    "tags": []
   },
   "outputs": [
    {
     "name": "stdout",
     "output_type": "stream",
     "text": [
      "\u001b[33mWARNING: The directory '/home/jovyan/.cache/pip' or its parent directory is not owned or is not writable by the current user. The cache has been disabled. Check the permissions and owner of that directory. If executing pip with sudo, you may want sudo's -H flag.\u001b[0m\n",
      "Note: you may need to restart the kernel to use updated packages.\n"
     ]
    }
   ],
   "source": [
    "pip install pandas -q"
   ]
  },
  {
   "cell_type": "code",
   "execution_count": 5,
   "id": "unlikely-thomas",
   "metadata": {},
   "outputs": [],
   "source": [
    "import scanpy as sc"
   ]
  },
  {
   "cell_type": "code",
   "execution_count": 6,
   "id": "assumed-chance",
   "metadata": {},
   "outputs": [],
   "source": [
    "import pandas as pd"
   ]
  },
  {
   "cell_type": "code",
   "execution_count": 7,
   "id": "subtle-power",
   "metadata": {},
   "outputs": [],
   "source": [
    "import numpy as np"
   ]
  },
  {
   "cell_type": "code",
   "execution_count": 8,
   "id": "associate-correspondence",
   "metadata": {},
   "outputs": [],
   "source": [
    "#Load dataset filtered, QC, scaled, only HVG, cell cycle genes regressed out\n",
    "scaled_ann_date=get(4)"
   ]
  },
  {
   "cell_type": "code",
   "execution_count": 33,
   "id": "irish-bowling",
   "metadata": {},
   "outputs": [],
   "source": [
    "adata_raw=sc.read_h5ad(scaled_ann_date)"
   ]
  },
  {
   "cell_type": "code",
   "execution_count": 34,
   "id": "identified-wells",
   "metadata": {},
   "outputs": [
    {
     "name": "stdout",
     "output_type": "stream",
     "text": [
      "AnnData object with n_obs × n_vars = 15685 × 30108\n",
      "    obs: 'Barcode', 'emptyTotal', 'emptyLogProb', 'emptyPValue', 'emptyLimited', 'emptyFDR', 'batch', 'n_genes', 'n_counts'\n",
      "    var: 'Symbol', 'Gene ID', 'mito', 'n_cells', 'n_counts'\n"
     ]
    }
   ],
   "source": [
    "print(adata_raw)"
   ]
  },
  {
   "cell_type": "code",
   "execution_count": 35,
   "id": "sudden-portsmouth",
   "metadata": {},
   "outputs": [
    {
     "name": "stdout",
     "output_type": "stream",
     "text": [
      "ENSG00000142611    False\n",
      "ENSG00000157911    False\n",
      "ENSG00000224340    False\n",
      "ENSG00000229280    False\n",
      "ENSG00000142655    False\n",
      "                   ...  \n",
      "ENSG00000198886     True\n",
      "ENSG00000198786     True\n",
      "ENSG00000198695     True\n",
      "ENSG00000198727     True\n",
      "ENSG00000274847    False\n",
      "Name: mito, Length: 30108, dtype: category\n",
      "Categories (2, object): ['False', 'True']\n"
     ]
    }
   ],
   "source": [
    "print(adata_raw.var['mito'])"
   ]
  },
  {
   "cell_type": "code",
   "execution_count": 36,
   "id": "hollywood-vehicle",
   "metadata": {},
   "outputs": [],
   "source": [
    "adata_raw.var['mito'] = adata_raw.var['mito'].replace({'True': True, 'False': False})"
   ]
  },
  {
   "cell_type": "code",
   "execution_count": 37,
   "id": "oriental-vertical",
   "metadata": {},
   "outputs": [
    {
     "name": "stdout",
     "output_type": "stream",
     "text": [
      "                   Symbol          Gene ID   mito  n_cells      n_counts\n",
      "ENSG00000142611    PRDM16  ENSG00000142611  False       81     63.174804\n",
      "ENSG00000157911     PEX10  ENSG00000157911  False       43     22.500000\n",
      "ENSG00000224340  RPL21P21  ENSG00000224340  False        6      6.000000\n",
      "ENSG00000229280   EEF1DP6  ENSG00000229280  False        1      1.000000\n",
      "ENSG00000142655     PEX14  ENSG00000142655  False       26     28.000000\n",
      "...                   ...              ...    ...      ...           ...\n",
      "ENSG00000198886    MT-ND4  ENSG00000198886   True     3654  11301.539250\n",
      "ENSG00000198786    MT-ND5  ENSG00000198786   True     3105   9357.411111\n",
      "ENSG00000198695    MT-ND6  ENSG00000198695   True     3131   8001.302077\n",
      "ENSG00000198727    MT-CYB  ENSG00000198727   True     2676   7808.000000\n",
      "ENSG00000274847     MAFIP  ENSG00000274847  False       57     36.166665\n",
      "\n",
      "[30108 rows x 5 columns]\n"
     ]
    }
   ],
   "source": [
    "print(adata_raw.var)"
   ]
  },
  {
   "cell_type": "code",
   "execution_count": 39,
   "id": "gross-illinois",
   "metadata": {},
   "outputs": [],
   "source": [
    "adata_raw.var['mito']=adata_raw.var['mito'].astype(bool)"
   ]
  },
  {
   "cell_type": "code",
   "execution_count": 40,
   "id": "filled-failure",
   "metadata": {},
   "outputs": [
    {
     "name": "stdout",
     "output_type": "stream",
     "text": [
      "ENSG00000142611    False\n",
      "ENSG00000157911    False\n",
      "ENSG00000224340    False\n",
      "ENSG00000229280    False\n",
      "ENSG00000142655    False\n",
      "                   ...  \n",
      "ENSG00000198886     True\n",
      "ENSG00000198786     True\n",
      "ENSG00000198695     True\n",
      "ENSG00000198727     True\n",
      "ENSG00000274847    False\n",
      "Name: mito, Length: 30108, dtype: bool\n"
     ]
    }
   ],
   "source": [
    "print(adata_raw.var['mito'])"
   ]
  },
  {
   "cell_type": "code",
   "execution_count": 41,
   "id": "urban-humidity",
   "metadata": {},
   "outputs": [],
   "source": [
    "#save structure to file\n",
    "adata_raw.write_h5ad(\"Initial_seurat.h5ad\")"
   ]
  },
  {
   "cell_type": "code",
   "execution_count": 42,
   "id": "connected-technical",
   "metadata": {},
   "outputs": [],
   "source": [
    "put('Initial_seurat.h5ad')"
   ]
  },
  {
   "cell_type": "markdown",
   "id": "labeled-finance",
   "metadata": {},
   "source": []
  }
 ],
 "metadata": {
  "kernelspec": {
   "display_name": "Python 3",
   "language": "python",
   "name": "python3"
  },
  "language_info": {
   "codemirror_mode": {
    "name": "ipython",
    "version": 3
   },
   "file_extension": ".py",
   "mimetype": "text/x-python",
   "name": "python",
   "nbconvert_exporter": "python",
   "pygments_lexer": "ipython3",
   "version": "3.8.8"
  }
 },
 "nbformat": 4,
 "nbformat_minor": 5
}
